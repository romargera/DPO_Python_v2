{
 "cells": [
  {
   "cell_type": "markdown",
   "metadata": {},
   "source": [
    "# Python для анализа данных\n",
    "\n",
    "## Бот в Telegram\n",
    "\n",
    "### Сбор статистики по Коронавирусу\n",
    "\n",
    "*Ян Пиле, Яндекс.Маркет*"
   ]
  },
  {
   "cell_type": "markdown",
   "metadata": {},
   "source": [
    "### Есть сайт с информацией о распространении вируса в мире\n",
    "Я предлагаю достать оттуда информацию в виде Pandas dataframe а затем по запросу пользователя в телеграм выгружать ее"
   ]
  },
  {
   "cell_type": "markdown",
   "metadata": {},
   "source": [
    "Импортируем requests и запишем адрес сайта со статистикой по COVID в переменную"
   ]
  },
  {
   "cell_type": "code",
   "execution_count": 1,
   "metadata": {},
   "outputs": [],
   "source": [
    "import requests\n",
    "url1 = 'https://www.worldometers.info/coronavirus/'"
   ]
  },
  {
   "cell_type": "markdown",
   "metadata": {},
   "source": [
    "После чего через get-запрос достанем текст страницы со статистикой и распарсим ее с помощью BeautifulSoup"
   ]
  },
  {
   "cell_type": "code",
   "execution_count": 12,
   "metadata": {},
   "outputs": [],
   "source": [
    "url = 'https://www.worldometers.info/coronavirus/'\n",
    "website = requests.get(url).text\n",
    "soup = BeautifulSoup(website, 'lxml')\n",
    "# soup"
   ]
  },
  {
   "cell_type": "markdown",
   "metadata": {},
   "source": [
    "На странице две таблицы: одна отвечает за информацию на сегодняшний день (под номером 0), а вторая - за информацию на вчерашний день. Достанем обе таблицы (они лежат между тегами \\<\\table\\>\\)"
   ]
  },
  {
   "cell_type": "code",
   "execution_count": 13,
   "metadata": {},
   "outputs": [],
   "source": [
    "table = soup.find_all('table')[0]\n",
    "# table"
   ]
  },
  {
   "cell_type": "markdown",
   "metadata": {},
   "source": [
    "Разобьем таблицу на строки (они лежат между тегами tr)"
   ]
  },
  {
   "cell_type": "code",
   "execution_count": 14,
   "metadata": {},
   "outputs": [],
   "source": [
    "rows = table.find_all('tr')\n",
    "# rows"
   ]
  },
  {
   "cell_type": "markdown",
   "metadata": {},
   "source": [
    "Сначала достанем заголовки (между тегами th). Для примера достанем заголовок первой колонки."
   ]
  },
  {
   "cell_type": "code",
   "execution_count": 16,
   "metadata": {},
   "outputs": [
    {
     "data": {
      "text/plain": [
       "'Country,Other'"
      ]
     },
     "execution_count": 16,
     "metadata": {},
     "output_type": "execute_result"
    }
   ],
   "source": [
    "rows[0].find_all('th')[1].get_text().strip()"
   ]
  },
  {
   "cell_type": "markdown",
   "metadata": {},
   "source": [
    "Теперь мы можем достать содержимое ячеек таблицы (между тегами td). Для примера достанем первую запись первого по счету столбца"
   ]
  },
  {
   "cell_type": "code",
   "execution_count": 20,
   "metadata": {},
   "outputs": [
    {
     "data": {
      "text/plain": [
       "'North America'"
      ]
     },
     "execution_count": 20,
     "metadata": {},
     "output_type": "execute_result"
    }
   ],
   "source": [
    "rows[1].find_all('td')[1].get_text().strip()"
   ]
  },
  {
   "cell_type": "markdown",
   "metadata": {},
   "source": [
    "Протестируем сборку на примере одной колонки, а потом пробежимся по их списку в цикле"
   ]
  },
  {
   "cell_type": "code",
   "execution_count": 22,
   "metadata": {},
   "outputs": [
    {
     "name": "stdout",
     "output_type": "stream",
     "text": [
      "['Country,Other', 'North America', 'South America', 'Europe', 'Asia', 'Africa', 'Oceania', '', 'World', 'USA', 'Brazil', 'Russia', 'India', 'UK', 'Spain', 'Peru', 'Chile', 'Italy', 'Iran', 'Mexico', 'Pakistan', 'Turkey', 'Germany', 'Saudi Arabia', 'France', 'Bangladesh', 'South Africa', 'Canada', 'Qatar', 'Colombia', 'Sweden', 'Egypt', 'Argentina', 'Belarus', 'Belgium', 'Indonesia', 'Ecuador', 'Netherlands', 'Iraq', 'UAE', 'Kuwait', 'Ukraine', 'Singapore', 'Portugal', 'Oman', 'Philippines', 'Poland', 'Panama', 'Bolivia', 'Dominican Republic', 'Switzerland', 'Afghanistan', 'Romania', 'Bahrain', 'Armenia', 'Ireland', 'Nigeria', 'Israel', 'Kazakhstan', 'Honduras', 'Japan', 'Austria', 'Ghana', 'Azerbaijan', 'Guatemala', 'Moldova', 'Serbia', 'Algeria', 'Nepal', 'S. Korea', 'Denmark', 'Cameroon', 'Morocco', 'Czechia', 'Sudan', 'Ivory Coast', 'Norway', 'Malaysia', 'Uzbekistan', 'Australia', 'Finland', 'DRC', 'Senegal', 'El Salvador', 'Kenya', 'North Macedonia', 'Haiti', 'Tajikistan', 'Ethiopia', 'Venezuela', 'Gabon', 'Guinea', 'Kyrgyzstan', 'Bulgaria', 'Djibouti', 'Bosnia and Herzegovina', 'Luxembourg', 'Mauritania', 'Hungary', 'French Guiana', 'CAR', 'Greece', 'Costa Rica', 'Thailand', 'Somalia', 'Croatia', 'Mayotte', 'Albania', 'Palestine', 'Cuba', 'Maldives', 'Madagascar', 'Paraguay', 'Mali', 'Nicaragua', 'Sri Lanka', 'Equatorial Guinea', 'Estonia', 'South Sudan', 'Iceland', 'Lithuania', 'Lebanon', 'Slovakia', 'Guinea-Bissau', 'Slovenia', 'Zambia', 'New Zealand', 'Sierra Leone', 'Cabo Verde', 'Malawi', 'Hong Kong', 'Benin', 'Tunisia', 'Yemen', 'Jordan', 'Latvia', 'Congo', 'Niger', 'Rwanda', 'Cyprus', 'Burkina Faso', 'Uruguay', 'Georgia', 'Mozambique', 'Uganda', 'Chad', 'Andorra', 'Libya', 'Eswatini', 'Liberia', 'Sao Tome and Principe', 'Diamond Princess', 'San Marino', 'Jamaica', 'Malta', 'Togo', 'Zimbabwe', 'Channel Islands', 'Réunion', 'Tanzania', 'Suriname', 'Montenegro', 'Taiwan', 'Vietnam', 'Mauritius', 'Isle of Man', 'Myanmar', 'Syria', 'Angola', 'Comoros', 'Martinique', 'Guyana', 'Mongolia', 'Namibia', 'Cayman Islands', 'Eritrea', 'Faeroe Islands', 'Guadeloupe', 'Gibraltar', 'Botswana', 'Burundi', 'Bermuda', 'Brunei', 'Cambodia', 'Trinidad and Tobago', 'Bahamas', 'Monaco', 'Aruba', 'Barbados', 'Liechtenstein', 'Sint Maarten', 'Bhutan', 'Seychelles', 'Antigua and Barbuda', 'French Polynesia', 'Gambia', 'Macao', 'Saint Martin', 'Turks and Caicos', 'St. Vincent Grenadines', 'Lesotho', 'Belize', 'Timor-Leste', 'Curaçao', 'Grenada', 'New Caledonia', 'Laos', 'Saint Lucia', 'Dominica', 'Fiji', 'Saint Kitts and Nevis', 'Falkland Islands', 'Greenland', 'Vatican City', 'Montserrat', 'Papua New Guinea', 'Western Sahara', 'MS Zaandam', 'British Virgin Islands', 'Caribbean Netherlands', 'St. Barth', 'Anguilla', 'Saint Pierre Miquelon', 'China', 'Total:', 'Total:', 'Total:', 'Total:', 'Total:', 'Total:', 'Total:', 'Total:']\n"
     ]
    }
   ],
   "source": [
    "col1 = []\n",
    "\n",
    "col1.append(rows[0].find_all('th')[1].get_text().strip()) # отдельно добавляем заголовок\n",
    "\n",
    "for row in rows[1:]: # начинаем со второго ряда таблицы, потому что 0 уже обработали выше\n",
    "    r = row.find_all('td') # находим все теги td для строки таблицы\n",
    "    col1.append(r[1].get_text().strip()) # сохраняем данные в наш список\n",
    "\n",
    "print(col1)"
   ]
  },
  {
   "cell_type": "markdown",
   "metadata": {},
   "source": [
    "Чтобы еще раз проверить, запустим для другой колонки - TotalCases"
   ]
  },
  {
   "cell_type": "code",
   "execution_count": 23,
   "metadata": {},
   "outputs": [
    {
     "name": "stdout",
     "output_type": "stream",
     "text": [
      "['TotalCases', '3,139,114', '2,189,877', '2,439,033', '2,287,856', '397,484', '9,476', '721', '10,463,561', '2,691,229', '1,373,006', '647,849', '574,926', '311,965', '296,050', '282,365', '275,999', '240,436', '227,662', '220,657', '209,337', '198,613', '195,399', '190,823', '164,260', '145,483', '144,264', '103,918', '96,088', '95,043', '67,667', '66,754', '62,268', '62,118', '61,427', '56,385', '55,665', '50,273', '49,109', '48,667', '46,195', '44,334', '43,907', '42,141', '40,070', '37,514', '34,393', '32,785', '32,125', '31,816', '31,714', '31,517', '26,970', '26,239', '25,542', '25,462', '25,133', '24,688', '21,819', '18,818', '18,476', '17,766', '17,741', '17,524', '17,409', '16,613', '14,564', '13,571', '13,564', '12,800', '12,768', '12,592', '12,385', '11,809', '9,257', '9,214', '8,866', '8,639', '8,385', '7,836', '7,214', '7,039', '6,793', '6,438', '6,366', '6,334', '5,933', '5,900', '5,846', '5,530', '5,394', '5,351', '5,296', '4,831', '4,682', '4,453', '4,256', '4,237', '4,155', '4,004', '3,613', '3,409', '3,269', '3,171', '2,904', '2,777', '2,603', '2,535', '2,390', '2,341', '2,337', '2,214', '2,191', '2,173', '2,170', '2,047', '2,001', '1,989', '1,989', '1,842', '1,817', '1,778', '1,667', '1,654', '1,600', '1,568', '1,528', '1,450', '1,226', '1,224', '1,206', '1,199', '1,172', '1,128', '1,128', '1,118', '1,087', '1,075', '1,001', '996', '962', '932', '928', '883', '870', '866', '855', '802', '795', '780', '713', '712', '698', '698', '670', '643', '574', '571', '526', '509', '501', '501', '447', '355', '341', '336', '299', '279', '276', '272', '242', '235', '220', '203', '199', '191', '187', '182', '177', '175', '170', '146', '141', '141', '130', '104', '103', '103', '97', '82', '77', '77', '77', '69', '62', '47', '46', '43', '41', '29', '27', '24', '24', '23', '23', '21', '19', '19', '18', '18', '15', '13', '13', '12', '11', '11', '10', '9', '8', '7', '6', '3', '1', '83,531', '3,139,114', '2,189,877', '2,439,033', '2,287,856', '397,484', '9,476', '721', '10,463,561']\n"
     ]
    }
   ],
   "source": [
    "col2 = []\n",
    "\n",
    "col2.append(rows[0].find_all('th')[2].get_text().strip()) # отдельно добавляем заголовок\n",
    "\n",
    "for row in rows[1:]: # начинаем со второго ряда таблицы, потому что 0 уже обработали выше\n",
    "    r = row.find_all('td') # находим все теги td для строки таблицы\n",
    "    col2.append(r[2].get_text().strip()) # сохраняем данные в наш список\n",
    "\n",
    "print(col2)"
   ]
  },
  {
   "cell_type": "markdown",
   "metadata": {},
   "source": [
    "А теперь пройдемся циклом по 9 колонкам, сгружая данные в список списков"
   ]
  },
  {
   "cell_type": "code",
   "execution_count": 24,
   "metadata": {},
   "outputs": [],
   "source": [
    "field_list = []\n",
    "for i in range(9):\n",
    "    col = []\n",
    "    col.append(rows[0].find_all('th')[i+1].get_text().strip()) # отдельно добавляем заголовок\n",
    "    for row in rows[1:]: # начинаем со второго ряда таблицы, потому что 0 уже обработали выше\n",
    "        r = row.find_all('td') # находим все теги td для строки таблицы\n",
    "        col.append(r[i+1].get_text().strip()) # сохраняем данные в наш список\n",
    "    field_list.append(col)"
   ]
  },
  {
   "cell_type": "markdown",
   "metadata": {},
   "source": [
    "А вот заголовок второго столбца"
   ]
  },
  {
   "cell_type": "code",
   "execution_count": 25,
   "metadata": {},
   "outputs": [
    {
     "data": {
      "text/plain": [
       "'TotalCases'"
      ]
     },
     "execution_count": 25,
     "metadata": {},
     "output_type": "execute_result"
    }
   ],
   "source": [
    "field_list[1][0]"
   ]
  },
  {
   "cell_type": "markdown",
   "metadata": {},
   "source": [
    "Остается превратить эту структуру в DataFrsme. Для этого сначала превратим ее в словарь из списков, где ключами будут названия колонок."
   ]
  },
  {
   "cell_type": "code",
   "execution_count": 27,
   "metadata": {},
   "outputs": [],
   "source": [
    "d = dict()\n",
    "for i in range(9):\n",
    "    d[field_list[i][0]] = field_list[i][1:]\n",
    "# d"
   ]
  },
  {
   "cell_type": "markdown",
   "metadata": {},
   "source": [
    "А теперь сгружаем этот словарь в функцию pd.DataFrame и он превращается в искомый DataFrame"
   ]
  },
  {
   "cell_type": "code",
   "execution_count": 28,
   "metadata": {},
   "outputs": [
    {
     "data": {
      "text/html": [
       "<div>\n",
       "<style scoped>\n",
       "    .dataframe tbody tr th:only-of-type {\n",
       "        vertical-align: middle;\n",
       "    }\n",
       "\n",
       "    .dataframe tbody tr th {\n",
       "        vertical-align: top;\n",
       "    }\n",
       "\n",
       "    .dataframe thead th {\n",
       "        text-align: right;\n",
       "    }\n",
       "</style>\n",
       "<table border=\"1\" class=\"dataframe\">\n",
       "  <thead>\n",
       "    <tr style=\"text-align: right;\">\n",
       "      <th></th>\n",
       "      <th>Country,Other</th>\n",
       "      <th>TotalCases</th>\n",
       "      <th>NewCases</th>\n",
       "      <th>TotalDeaths</th>\n",
       "      <th>NewDeaths</th>\n",
       "      <th>TotalRecovered</th>\n",
       "      <th>NewRecovered</th>\n",
       "      <th>ActiveCases</th>\n",
       "      <th>Serious,Critical</th>\n",
       "    </tr>\n",
       "  </thead>\n",
       "  <tbody>\n",
       "    <tr>\n",
       "      <th>0</th>\n",
       "      <td>North America</td>\n",
       "      <td>3,139,114</td>\n",
       "      <td>+14,796</td>\n",
       "      <td>167,766</td>\n",
       "      <td>+663</td>\n",
       "      <td>1,370,398</td>\n",
       "      <td>+10,185</td>\n",
       "      <td>1,600,950</td>\n",
       "      <td>18,913</td>\n",
       "    </tr>\n",
       "    <tr>\n",
       "      <th>1</th>\n",
       "      <td>South America</td>\n",
       "      <td>2,189,877</td>\n",
       "      <td>+3,349</td>\n",
       "      <td>83,695</td>\n",
       "      <td>+81</td>\n",
       "      <td>1,268,518</td>\n",
       "      <td>+1,457</td>\n",
       "      <td>837,664</td>\n",
       "      <td>12,782</td>\n",
       "    </tr>\n",
       "    <tr>\n",
       "      <th>2</th>\n",
       "      <td>Europe</td>\n",
       "      <td>2,439,033</td>\n",
       "      <td>+9,799</td>\n",
       "      <td>191,289</td>\n",
       "      <td>+263</td>\n",
       "      <td>1,369,463</td>\n",
       "      <td>+12,518</td>\n",
       "      <td>878,281</td>\n",
       "      <td>5,719</td>\n",
       "    </tr>\n",
       "    <tr>\n",
       "      <th>3</th>\n",
       "      <td>Asia</td>\n",
       "      <td>2,287,856</td>\n",
       "      <td>+31,472</td>\n",
       "      <td>56,504</td>\n",
       "      <td>+774</td>\n",
       "      <td>1,500,747</td>\n",
       "      <td>+24,551</td>\n",
       "      <td>730,605</td>\n",
       "      <td>19,345</td>\n",
       "    </tr>\n",
       "    <tr>\n",
       "      <th>4</th>\n",
       "      <td>Africa</td>\n",
       "      <td>397,484</td>\n",
       "      <td>+1,170</td>\n",
       "      <td>9,930</td>\n",
       "      <td>+16</td>\n",
       "      <td>190,617</td>\n",
       "      <td>+895</td>\n",
       "      <td>196,937</td>\n",
       "      <td>920</td>\n",
       "    </tr>\n",
       "    <tr>\n",
       "      <th>5</th>\n",
       "      <td>Oceania</td>\n",
       "      <td>9,476</td>\n",
       "      <td>+69</td>\n",
       "      <td>126</td>\n",
       "      <td></td>\n",
       "      <td>8,599</td>\n",
       "      <td></td>\n",
       "      <td>751</td>\n",
       "      <td>1</td>\n",
       "    </tr>\n",
       "    <tr>\n",
       "      <th>6</th>\n",
       "      <td></td>\n",
       "      <td>721</td>\n",
       "      <td></td>\n",
       "      <td>15</td>\n",
       "      <td></td>\n",
       "      <td>651</td>\n",
       "      <td></td>\n",
       "      <td>55</td>\n",
       "      <td>4</td>\n",
       "    </tr>\n",
       "    <tr>\n",
       "      <th>7</th>\n",
       "      <td>World</td>\n",
       "      <td>10,463,561</td>\n",
       "      <td>+60,655</td>\n",
       "      <td>509,325</td>\n",
       "      <td>+1,797</td>\n",
       "      <td>5,708,993</td>\n",
       "      <td>+49,606</td>\n",
       "      <td>4,245,243</td>\n",
       "      <td>57,684</td>\n",
       "    </tr>\n",
       "    <tr>\n",
       "      <th>8</th>\n",
       "      <td>USA</td>\n",
       "      <td>2,691,229</td>\n",
       "      <td>+9,418</td>\n",
       "      <td>128,936</td>\n",
       "      <td>+153</td>\n",
       "      <td>1,122,655</td>\n",
       "      <td>+5,478</td>\n",
       "      <td>1,439,638</td>\n",
       "      <td>15,864</td>\n",
       "    </tr>\n",
       "    <tr>\n",
       "      <th>9</th>\n",
       "      <td>Brazil</td>\n",
       "      <td>1,373,006</td>\n",
       "      <td>+2,518</td>\n",
       "      <td>58,406</td>\n",
       "      <td>+21</td>\n",
       "      <td>757,462</td>\n",
       "      <td></td>\n",
       "      <td>557,138</td>\n",
       "      <td>8,318</td>\n",
       "    </tr>\n",
       "  </tbody>\n",
       "</table>\n",
       "</div>"
      ],
      "text/plain": [
       "   Country,Other  TotalCases NewCases TotalDeaths NewDeaths TotalRecovered  \\\n",
       "0  North America   3,139,114  +14,796     167,766      +663      1,370,398   \n",
       "1  South America   2,189,877   +3,349      83,695       +81      1,268,518   \n",
       "2         Europe   2,439,033   +9,799     191,289      +263      1,369,463   \n",
       "3           Asia   2,287,856  +31,472      56,504      +774      1,500,747   \n",
       "4         Africa     397,484   +1,170       9,930       +16        190,617   \n",
       "5        Oceania       9,476      +69         126                    8,599   \n",
       "6                        721                   15                      651   \n",
       "7          World  10,463,561  +60,655     509,325    +1,797      5,708,993   \n",
       "8            USA   2,691,229   +9,418     128,936      +153      1,122,655   \n",
       "9         Brazil   1,373,006   +2,518      58,406       +21        757,462   \n",
       "\n",
       "  NewRecovered ActiveCases Serious,Critical  \n",
       "0      +10,185   1,600,950           18,913  \n",
       "1       +1,457     837,664           12,782  \n",
       "2      +12,518     878,281            5,719  \n",
       "3      +24,551     730,605           19,345  \n",
       "4         +895     196,937              920  \n",
       "5                      751                1  \n",
       "6                       55                4  \n",
       "7      +49,606   4,245,243           57,684  \n",
       "8       +5,478   1,439,638           15,864  \n",
       "9                  557,138            8,318  "
      ]
     },
     "execution_count": 28,
     "metadata": {},
     "output_type": "execute_result"
    }
   ],
   "source": [
    "import pandas as pd \n",
    "df = pd.DataFrame(d)\n",
    "df.head(10)"
   ]
  },
  {
   "cell_type": "code",
   "execution_count": 29,
   "metadata": {},
   "outputs": [
    {
     "data": {
      "text/html": [
       "<div>\n",
       "<style scoped>\n",
       "    .dataframe tbody tr th:only-of-type {\n",
       "        vertical-align: middle;\n",
       "    }\n",
       "\n",
       "    .dataframe tbody tr th {\n",
       "        vertical-align: top;\n",
       "    }\n",
       "\n",
       "    .dataframe thead th {\n",
       "        text-align: right;\n",
       "    }\n",
       "</style>\n",
       "<table border=\"1\" class=\"dataframe\">\n",
       "  <thead>\n",
       "    <tr style=\"text-align: right;\">\n",
       "      <th></th>\n",
       "      <th>Country,Other</th>\n",
       "      <th>TotalCases</th>\n",
       "      <th>NewCases</th>\n",
       "      <th>TotalDeaths</th>\n",
       "      <th>NewDeaths</th>\n",
       "      <th>TotalRecovered</th>\n",
       "      <th>NewRecovered</th>\n",
       "      <th>ActiveCases</th>\n",
       "      <th>Serious,Critical</th>\n",
       "    </tr>\n",
       "  </thead>\n",
       "  <tbody>\n",
       "    <tr>\n",
       "      <th>0</th>\n",
       "      <td>North America</td>\n",
       "      <td>3,139,114</td>\n",
       "      <td>+14,796</td>\n",
       "      <td>167,766</td>\n",
       "      <td>+663</td>\n",
       "      <td>1,370,398</td>\n",
       "      <td>+10,185</td>\n",
       "      <td>1,600,950</td>\n",
       "      <td>18,913</td>\n",
       "    </tr>\n",
       "    <tr>\n",
       "      <th>1</th>\n",
       "      <td>South America</td>\n",
       "      <td>2,189,877</td>\n",
       "      <td>+3,349</td>\n",
       "      <td>83,695</td>\n",
       "      <td>+81</td>\n",
       "      <td>1,268,518</td>\n",
       "      <td>+1,457</td>\n",
       "      <td>837,664</td>\n",
       "      <td>12,782</td>\n",
       "    </tr>\n",
       "    <tr>\n",
       "      <th>2</th>\n",
       "      <td>Europe</td>\n",
       "      <td>2,439,033</td>\n",
       "      <td>+9,799</td>\n",
       "      <td>191,289</td>\n",
       "      <td>+263</td>\n",
       "      <td>1,369,463</td>\n",
       "      <td>+12,518</td>\n",
       "      <td>878,281</td>\n",
       "      <td>5,719</td>\n",
       "    </tr>\n",
       "    <tr>\n",
       "      <th>3</th>\n",
       "      <td>Asia</td>\n",
       "      <td>2,287,856</td>\n",
       "      <td>+31,472</td>\n",
       "      <td>56,504</td>\n",
       "      <td>+774</td>\n",
       "      <td>1,500,747</td>\n",
       "      <td>+24,551</td>\n",
       "      <td>730,605</td>\n",
       "      <td>19,345</td>\n",
       "    </tr>\n",
       "    <tr>\n",
       "      <th>4</th>\n",
       "      <td>Africa</td>\n",
       "      <td>397,484</td>\n",
       "      <td>+1,170</td>\n",
       "      <td>9,930</td>\n",
       "      <td>+16</td>\n",
       "      <td>190,617</td>\n",
       "      <td>+895</td>\n",
       "      <td>196,937</td>\n",
       "      <td>920</td>\n",
       "    </tr>\n",
       "    <tr>\n",
       "      <th>5</th>\n",
       "      <td>Oceania</td>\n",
       "      <td>9,476</td>\n",
       "      <td>+69</td>\n",
       "      <td>126</td>\n",
       "      <td></td>\n",
       "      <td>8,599</td>\n",
       "      <td></td>\n",
       "      <td>751</td>\n",
       "      <td>1</td>\n",
       "    </tr>\n",
       "    <tr>\n",
       "      <th>6</th>\n",
       "      <td></td>\n",
       "      <td>721</td>\n",
       "      <td></td>\n",
       "      <td>15</td>\n",
       "      <td></td>\n",
       "      <td>651</td>\n",
       "      <td></td>\n",
       "      <td>55</td>\n",
       "      <td>4</td>\n",
       "    </tr>\n",
       "    <tr>\n",
       "      <th>7</th>\n",
       "      <td>World</td>\n",
       "      <td>10,463,561</td>\n",
       "      <td>+60,655</td>\n",
       "      <td>509,325</td>\n",
       "      <td>+1,797</td>\n",
       "      <td>5,708,993</td>\n",
       "      <td>+49,606</td>\n",
       "      <td>4,245,243</td>\n",
       "      <td>57,684</td>\n",
       "    </tr>\n",
       "  </tbody>\n",
       "</table>\n",
       "</div>"
      ],
      "text/plain": [
       "   Country,Other  TotalCases NewCases TotalDeaths NewDeaths TotalRecovered  \\\n",
       "0  North America   3,139,114  +14,796     167,766      +663      1,370,398   \n",
       "1  South America   2,189,877   +3,349      83,695       +81      1,268,518   \n",
       "2         Europe   2,439,033   +9,799     191,289      +263      1,369,463   \n",
       "3           Asia   2,287,856  +31,472      56,504      +774      1,500,747   \n",
       "4         Africa     397,484   +1,170       9,930       +16        190,617   \n",
       "5        Oceania       9,476      +69         126                    8,599   \n",
       "6                        721                   15                      651   \n",
       "7          World  10,463,561  +60,655     509,325    +1,797      5,708,993   \n",
       "\n",
       "  NewRecovered ActiveCases Serious,Critical  \n",
       "0      +10,185   1,600,950           18,913  \n",
       "1       +1,457     837,664           12,782  \n",
       "2      +12,518     878,281            5,719  \n",
       "3      +24,551     730,605           19,345  \n",
       "4         +895     196,937              920  \n",
       "5                      751                1  \n",
       "6                       55                4  \n",
       "7      +49,606   4,245,243           57,684  "
      ]
     },
     "execution_count": 29,
     "metadata": {},
     "output_type": "execute_result"
    }
   ],
   "source": [
    "df.head(8)"
   ]
  },
  {
   "cell_type": "markdown",
   "metadata": {},
   "source": [
    "Для удобства переименуем колонки с составными названиями."
   ]
  },
  {
   "cell_type": "code",
   "execution_count": 30,
   "metadata": {},
   "outputs": [],
   "source": [
    "df = df.rename(columns={'Country,Other': 'Country', 'Serious,Critical': 'SeriousCritical'})"
   ]
  },
  {
   "cell_type": "markdown",
   "metadata": {},
   "source": [
    "А теперь сгрузим весь процесс, который мы проделали, в одну функцию. Ее аргумент tag = 0 - информация за сегодняшний день, a tag=1 - информация за вчерашний день."
   ]
  },
  {
   "cell_type": "code",
   "execution_count": 31,
   "metadata": {},
   "outputs": [],
   "source": [
    "def stat(tag = 0):\n",
    "    url = 'https://www.worldometers.info/coronavirus/'\n",
    "    website = requests.get(url).text\n",
    "    soup = BeautifulSoup(website, 'lxml')\n",
    "    table = soup.find_all('table')[tag]\n",
    "    rows = table.find_all('tr')\n",
    "    fields_list = []\n",
    "\n",
    "    for i in range(9):\n",
    "        col = []\n",
    "        col.append(rows[0].find_all('th')[i+1].get_text().strip())\n",
    "        for row in rows[1:224]:\n",
    "            r = row.find_all('td')\n",
    "            col.append(r[i+1].get_text().strip())\n",
    "        fields_list.append(col)\n",
    "    d = dict()\n",
    "    for i in range(9):\n",
    "        d[fields_list[i][0]] = fields_list[i][1:]\n",
    "    df = pd.DataFrame(d)\n",
    "    df = df.rename(columns = {'Country,Other':'Country', 'Serious,Critical':'SeriousCritical'})\n",
    "    return df"
   ]
  },
  {
   "cell_type": "markdown",
   "metadata": {},
   "source": [
    "В первых 8 строках таблицы в колонке Country лежат регионы + Мир. Одна строка пустая. Уберем ее с помощью спискового включения."
   ]
  },
  {
   "cell_type": "code",
   "execution_count": 32,
   "metadata": {},
   "outputs": [
    {
     "name": "stdout",
     "output_type": "stream",
     "text": [
      "North America\n",
      " South America\n",
      " Europe\n",
      " Asia\n",
      " Africa\n",
      " Oceania\n",
      " World\n",
      "\n"
     ]
    }
   ],
   "source": [
    "print(*list(i+'\\n' for i in list(stat()['Country'][:8]) if i!=''))"
   ]
  },
  {
   "cell_type": "markdown",
   "metadata": {},
   "source": [
    "А с 8 по 220 строки лежат названия стран. Выведем ее с помощью спискового включения по 6 стран в линию (для этого вставим символ переноса строки)"
   ]
  },
  {
   "cell_type": "code",
   "execution_count": 33,
   "metadata": {},
   "outputs": [
    {
     "name": "stdout",
     "output_type": "stream",
     "text": [
      "USA, Brazil, Russia, India, UK, Spain,\n",
      " Peru, Chile, Italy, Iran, Mexico, Pakistan,\n",
      " Turkey, Germany, Saudi Arabia, France, Bangladesh, South Africa,\n",
      " Canada, Qatar, Colombia, Sweden, Egypt, Argentina,\n",
      " Belarus, Belgium, Indonesia, Ecuador, Netherlands, Iraq,\n",
      " UAE, Kuwait, Ukraine, Singapore, Portugal, Oman,\n",
      " Philippines, Poland, Panama, Bolivia, Dominican Republic, Switzerland,\n",
      " Afghanistan, Romania, Bahrain, Armenia, Ireland, Nigeria,\n",
      " Israel, Kazakhstan, Honduras, Japan, Austria, Ghana,\n",
      " Azerbaijan, Guatemala, Moldova, Serbia, Algeria, Nepal,\n",
      " S. Korea, Denmark, Cameroon, Morocco, Czechia, Sudan,\n",
      " Ivory Coast, Norway, Malaysia, Uzbekistan, Australia, Finland,\n",
      " DRC, Senegal, El Salvador, Kenya, North Macedonia, Haiti,\n",
      " Tajikistan, Ethiopia, Venezuela, Gabon, Guinea, Kyrgyzstan,\n",
      " Bulgaria, Djibouti, Bosnia and Herzegovina, Luxembourg, Mauritania, Hungary,\n",
      " French Guiana, CAR, Greece, Costa Rica, Thailand, Somalia,\n",
      " Croatia, Mayotte, Albania, Palestine, Cuba, Maldives,\n",
      " Madagascar, Paraguay, Mali, Nicaragua, Sri Lanka, Equatorial Guinea,\n",
      " Estonia, South Sudan, Iceland, Lithuania, Lebanon, Slovakia,\n",
      " Guinea-Bissau, Slovenia, Zambia, New Zealand, Sierra Leone, Cabo Verde,\n",
      " Malawi, Hong Kong, Benin, Tunisia, Yemen, Jordan,\n",
      " Latvia, Congo, Niger, Rwanda, Cyprus, Burkina Faso,\n",
      " Uruguay, Georgia, Mozambique, Uganda, Chad, Andorra,\n",
      " Libya, Eswatini, Liberia, Sao Tome and Principe, Diamond Princess, San Marino,\n",
      " Jamaica, Malta, Togo, Zimbabwe, Channel Islands, Réunion,\n",
      " Tanzania, Suriname, Montenegro, Taiwan, Vietnam, Mauritius,\n",
      " Isle of Man, Myanmar, Syria, Angola, Comoros, Martinique,\n",
      " Guyana, Mongolia, Namibia, Cayman Islands, Eritrea, Faeroe Islands,\n",
      " Guadeloupe, Gibraltar, Botswana, Burundi, Bermuda, Brunei,\n",
      " Cambodia, Trinidad and Tobago, Bahamas, Monaco, Aruba, Barbados,\n",
      " Liechtenstein, Sint Maarten, Bhutan, Seychelles, Antigua and Barbuda, French Polynesia,\n",
      " Gambia, Macao, Saint Martin, Turks and Caicos, St. Vincent Grenadines, Lesotho,\n",
      " Belize, Timor-Leste, Curaçao, Grenada, New Caledonia, Laos,\n",
      " Saint Lucia, Dominica, Fiji, Saint Kitts and Nevis, Falkland Islands, Greenland,\n",
      " Vatican City, Montserrat, Papua New Guinea, Western Sahara, MS Zaandam, British Virgin Islands,\n",
      " Caribbean Netherlands, St. Barth\n"
     ]
    }
   ],
   "source": [
    "x = stat()['Country'][8:220]\n",
    "import re\n",
    "# print(x)\n",
    "print(', '.join([e+'\\n' if i%6 == 5 else e for i,e in enumerate(x)]).replace('\\n,',',\\n'))\n"
   ]
  },
  {
   "cell_type": "markdown",
   "metadata": {},
   "source": [
    "Для вывода результатов в текстовом формате воспользуемся библиотекой tabulate (в таком формате мы будем отправлять результаты в telegram'е)"
   ]
  },
  {
   "cell_type": "code",
   "execution_count": 34,
   "metadata": {},
   "outputs": [],
   "source": [
    "from tabulate import tabulate"
   ]
  },
  {
   "cell_type": "markdown",
   "metadata": {},
   "source": [
    "Например общее количество случаев заболевания коронавирусом в Великобритании вывести можно так:"
   ]
  },
  {
   "cell_type": "code",
   "execution_count": 35,
   "metadata": {},
   "outputs": [
    {
     "name": "stdout",
     "output_type": "stream",
     "text": [
      "+----+-----------+--------------+\n",
      "|    | Country   | TotalCases   |\n",
      "+====+===========+==============+\n",
      "|  0 | UK        | 311,965      |\n",
      "+----+-----------+--------------+\n"
     ]
    }
   ],
   "source": [
    "x = df[['Country','TotalCases']][df['Country']=='UK'].reset_index(drop=True)\n",
    "print(tabulate(x, headers = x.columns, tablefmt=\"grid\"))"
   ]
  }
 ],
 "metadata": {
  "kernelspec": {
   "display_name": "Python 3",
   "language": "python",
   "name": "python3"
  },
  "language_info": {
   "codemirror_mode": {
    "name": "ipython",
    "version": 3
   },
   "file_extension": ".py",
   "mimetype": "text/x-python",
   "name": "python",
   "nbconvert_exporter": "python",
   "pygments_lexer": "ipython3",
   "version": "3.7.6"
  }
 },
 "nbformat": 4,
 "nbformat_minor": 2
}
